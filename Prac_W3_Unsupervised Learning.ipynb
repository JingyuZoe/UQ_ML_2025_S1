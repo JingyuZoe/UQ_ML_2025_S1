{
 "cells": [
  {
   "cell_type": "markdown",
   "id": "dca14cd0-bb90-4d68-8208-915352c3351f",
   "metadata": {},
   "source": [
    "(Q1) K-Means Clustering\n",
    "\n",
    "Hints:\n",
    "Use KMeans from sklearn.cluster.\n",
    "\n",
    "Extract only the second and third columns (height & weight).\n",
    "\n",
    "Assign cluster labels and plot the data.\n",
    "\n",
    "Use different colors for different clusters.\n",
    "\n",
    "You can compare the clustering results with the first columns (real lable)"
   ]
  },
  {
   "cell_type": "code",
   "execution_count": null,
   "id": "55477a23-ed33-4602-8d28-20a3897cc23c",
   "metadata": {},
   "outputs": [],
   "source": [
    "import numpy as np\n",
    "import matplotlib.pyplot as plt\n",
    "from sklearn.cluster import KMeans\n",
    "\n",
    "# Load dataset ( CSV file with three columns: class, height, weight)\n",
    "X = ...  # Extract columns height, weight\n",
    "\n",
    "# Apply K-Means clustering\n",
    "kmeans = KMeans(n_clusters=3, random_state=42)\n",
    "labels = kmeans.fit_predict(X)\n",
    "\n",
    "# Plot clusters\n",
    "plt.scatter(X[:, 0], X[:, 1], c=labels)\n",
    "plt.scatter(kmeans.cluster_centers_[:, 0], kmeans.cluster_centers_[:, 1], \n",
    "            marker=\"X\", color=\"red\", label=\"Centroids\")\n",
    "plt.xlabel(\"Height\")\n",
    "plt.ylabel(\"Weight\")\n",
    "plt.legend()\n",
    "plt.show()\n"
   ]
  },
  {
   "cell_type": "markdown",
   "id": "2e111003-afc6-4369-9888-14fa780a0492",
   "metadata": {},
   "source": [
    "(Q2) Implement PCA\n",
    "\n",
    "Hints: Compute the covariance matrix of the dataset.\n",
    "\n",
    "Find its eigenvalues and eigenvectors using numpy.linalg.eig.\n",
    "\n",
    "Sort eigenvalues in descending order and select the top components.\n",
    "\n",
    "Transform the original data using the top eigenvectors.\n"
   ]
  },
  {
   "cell_type": "code",
   "execution_count": null,
   "id": "8b89652f-5a65-45f0-ad38-13debeb4f900",
   "metadata": {},
   "outputs": [],
   "source": [
    "def pca(X, n_components=2):\n",
    "    cov_matrix = ...\n",
    "    eigenvalues, eigenvectors = ...\n",
    "    top_components = ...\n",
    "    return X @ top_components\n"
   ]
  },
  {
   "cell_type": "markdown",
   "id": "7ca1ec15-cbe6-4bbb-a7c2-89c04f6f289b",
   "metadata": {},
   "source": [
    "(Q3) Apply PCA to MNIST Dataset\n",
    "\n",
    "Hints:Load MNIST using fetch_openml.\n",
    "\n",
    "Extract features X and labels y.\n",
    "\n",
    "Apply PCA to reduce dimensions."
   ]
  },
  {
   "cell_type": "code",
   "execution_count": null,
   "id": "65d307ba-29b8-475b-8ece-0907f1de7244",
   "metadata": {},
   "outputs": [],
   "source": [
    "from sklearn.datasets import fetch_openml\n",
    "\n",
    "mnist = fetch_openml(\"mnist_784\", version=1)\n",
    "X = mnist.data\n",
    "y = mnist.target.astype(int)\n",
    "X_pca = pca(X, n_components=2)\n"
   ]
  },
  {
   "cell_type": "markdown",
   "id": "63ee3df4-1874-45e2-91d0-613c548d2e63",
   "metadata": {},
   "source": [
    "(Q4) Plot PCA-transformed MNIST Data\n",
    "\n",
    "Hints:Scatter plot first two principal components.\n",
    "\n",
    "Color by class label.\n"
   ]
  },
  {
   "cell_type": "code",
   "execution_count": null,
   "id": "36d5c9db-ce63-4935-8fb8-f2578d6d545a",
   "metadata": {},
   "outputs": [],
   "source": [
    "import matplotlib.pyplot as plt\n",
    "\n",
    "plt.scatter(X_pca[:, 0], X_pca[:, 1], c=y.astype(int), cmap=\"tab10\")\n",
    "plt.show()"
   ]
  },
  {
   "cell_type": "markdown",
   "id": "16001080-8657-4b90-afac-0d95ac9924ca",
   "metadata": {},
   "source": [
    "(Q5) Compute Variance Explained\n",
    "\n",
    "Hints: Sum eigenvalues and compute the percentage of variance retained by the first two components."
   ]
  },
  {
   "cell_type": "code",
   "execution_count": null,
   "id": "e2fc6763-dd1a-4ccf-b394-cef3241cd5bb",
   "metadata": {},
   "outputs": [],
   "source": [
    "variance_ratio = ...\n",
    "print(f\"Variance explained: {variance_ratio:.2%}\")"
   ]
  },
  {
   "cell_type": "markdown",
   "id": "e5126003-5116-4a13-9150-9c7fb6d3e9ba",
   "metadata": {},
   "source": [
    "(Q6) Scree Plot\n",
    "\n",
    "Hints: Plot eigenvalues in descending order."
   ]
  },
  {
   "cell_type": "code",
   "execution_count": null,
   "id": "0438f282-437a-4154-a5b3-944ad55fe8c3",
   "metadata": {},
   "outputs": [],
   "source": [
    "plt.plot(..., marker=\"o\")\n",
    "plt.xlabel(\"Principal Component\")\n",
    "plt.ylabel(\"Variance\")\n",
    "plt.show()"
   ]
  },
  {
   "cell_type": "markdown",
   "id": "ee5f9296-1846-4634-ae93-995baf8466e3",
   "metadata": {},
   "source": [
    "(Q7) Apply PCA to Swiss Roll\n",
    "\n",
    "Hints:load Swiss Roll dataset.\n",
    "Apply PCA and visualize."
   ]
  },
  {
   "cell_type": "code",
   "execution_count": null,
   "id": "331d26e8-ec59-491c-8a33-3044dc3a840e",
   "metadata": {},
   "outputs": [],
   "source": []
  }
 ],
 "metadata": {
  "kernelspec": {
   "display_name": "Python 3 (ipykernel)",
   "language": "python",
   "name": "python3"
  },
  "language_info": {
   "codemirror_mode": {
    "name": "ipython",
    "version": 3
   },
   "file_extension": ".py",
   "mimetype": "text/x-python",
   "name": "python",
   "nbconvert_exporter": "python",
   "pygments_lexer": "ipython3",
   "version": "3.12.4"
  }
 },
 "nbformat": 4,
 "nbformat_minor": 5
}
